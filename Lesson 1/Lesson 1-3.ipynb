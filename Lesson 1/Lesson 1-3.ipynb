{
 "cells": [
  {
   "cell_type": "code",
   "execution_count": null,
   "metadata": {},
   "outputs": [],
   "source": [
    "x = 1000\n",
    "y = 1000\n",
    "print(f'Xid = {id(x)}; Yid = {id(y)}')\n",
    "print(x is y)"
   ]
  },
  {
   "cell_type": "code",
   "execution_count": null,
   "metadata": {},
   "outputs": [],
   "source": [
    "x = 25\n",
    "y = 24\n",
    "print(f'Xid = {id(x)}; Yid = {id(y)}')\n",
    "print(x is y)"
   ]
  },
  {
   "cell_type": "code",
   "execution_count": null,
   "metadata": {},
   "outputs": [],
   "source": [
    "y += 1\n",
    "print(f'Xid = {id(x)}; Yid = {id(y)}')\n",
    "print(x is y)"
   ]
  },
  {
   "cell_type": "code",
   "execution_count": null,
   "metadata": {},
   "outputs": [],
   "source": [
    "str1 = \"Itsfantastic\"\n",
    "str2 = \"Itsfantastic\"\n",
    "print(f'S1 = {id(str1)}; S2 = {id(str2)}')\n",
    "print(str1 is str2)"
   ]
  },
  {
   "cell_type": "code",
   "execution_count": null,
   "metadata": {},
   "outputs": [],
   "source": [
    "str1 = \"Its fantastic\"\n",
    "str2 = \"Its fantastic\"\n",
    "print(f'S1 = {id(str1)}; S2 = {id(str2)}')\n",
    "print(str1 is str2)\n",
    "\n",
    "str1 = \"Itsfantastic!\"\n",
    "str2 = \"Itsfantastic!\"\n",
    "print(f'S1 = {id(str1)}; S2 = {id(str2)}')\n",
    "print(str1 is str2)\n",
    "\n",
    "str1 = \"It's fantastic!\"\n",
    "str2 = \"It's fantastic!\"\n",
    "print(f'S1 = {id(str1)}; S2 = {id(str2)}')\n",
    "print(str1 is str2)"
   ]
  },
  {
   "cell_type": "code",
   "execution_count": null,
   "metadata": {},
   "outputs": [],
   "source": [
    "import sys\n",
    "str1 = sys.intern(\"It's fantastic!\")\n",
    "str2 = sys.intern(\"It's fantastic!\")\n",
    "print(f'S1 = {id(str1)}; S2 = {id(str2)}')\n",
    "print(str1 is str2)"
   ]
  },
  {
   "cell_type": "code",
   "execution_count": null,
   "metadata": {},
   "outputs": [],
   "source": [
    "import sys\n",
    "str1 = sys.intern(\"It's fantastic!\")\n",
    "str2 = \"It's fantastic!\"\n",
    "print(f'S1 = {id(str1)}; S2 = {id(str2)}')\n",
    "print(str1 is str2)"
   ]
  },
  {
   "cell_type": "code",
   "execution_count": null,
   "metadata": {},
   "outputs": [],
   "source": []
  }
 ],
 "metadata": {
  "language_info": {
   "codemirror_mode": {
    "name": "ipython",
    "version": 3
   },
   "file_extension": ".py",
   "mimetype": "text/x-python",
   "name": "python",
   "nbconvert_exporter": "python",
   "pygments_lexer": "ipython3",
   "version": "3.7.7-final"
  },
  "orig_nbformat": 2,
  "kernelspec": {
   "name": "python37464bitbaseconda965802ec3bac4354bcdf100448e694ef",
   "display_name": "Python 3.7.4 64-bit ('base': conda)"
  }
 },
 "nbformat": 4,
 "nbformat_minor": 2
}