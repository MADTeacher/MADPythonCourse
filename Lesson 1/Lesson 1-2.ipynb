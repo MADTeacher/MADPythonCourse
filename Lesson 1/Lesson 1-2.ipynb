{
 "cells": [
  {
   "cell_type": "code",
   "execution_count": null,
   "metadata": {},
   "outputs": [],
   "source": [
    "i = 5\n",
    "print(isinstance(i, object))\n",
    "print(isinstance('Oo', object))\n",
    "print(isinstance([2, 4, 't'], object))\n",
    "print(isinstance({'a': 3, 'b': 5}, object))\n",
    "print(isinstance((2, 4, 'w'), object))\n",
    "def test_func():\n",
    "    pass\n",
    "print(isinstance(test_func, object))"
   ]
  },
  {
   "cell_type": "code",
   "execution_count": null,
   "metadata": {},
   "outputs": [],
   "source": [
    "my_list = [2, 3, 4, [1, 4]]\n",
    "bad_list = my_list.copy()\n",
    "bad_list.append(10)\n",
    "print(bad_list)\n",
    "print(my_list)\n",
    "bad_list[3].append('Oo')\n",
    "print(bad_list)\n",
    "print(my_list)"
   ]
  },
  {
   "cell_type": "code",
   "execution_count": null,
   "metadata": {},
   "outputs": [],
   "source": [
    "import copy\n",
    "my_list = [2, 3, 4, [1, 4]]\n",
    "bad_list = copy.deepcopy(my_list)\n",
    "bad_list.append(10)\n",
    "print(bad_list)\n",
    "print(my_list)\n",
    "bad_list[3].append('Oo')\n",
    "print(bad_list)\n",
    "print(my_list)"
   ]
  }
 ],
 "metadata": {
  "language_info": {
   "codemirror_mode": {
    "name": "ipython",
    "version": 3
   },
   "file_extension": ".py",
   "mimetype": "text/x-python",
   "name": "python",
   "nbconvert_exporter": "python",
   "pygments_lexer": "ipython3",
   "version": "3.7.7-final"
  },
  "orig_nbformat": 2,
  "kernelspec": {
   "name": "python37464bitbaseconda965802ec3bac4354bcdf100448e694ef",
   "display_name": "Python 3.7.4 64-bit ('base': conda)"
  }
 },
 "nbformat": 4,
 "nbformat_minor": 2
}