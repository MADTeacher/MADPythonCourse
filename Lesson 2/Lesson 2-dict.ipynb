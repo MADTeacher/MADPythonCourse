{
 "cells": [
  {
   "cell_type": "code",
   "execution_count": null,
   "metadata": {},
   "outputs": [],
   "source": [
    "my_dict = {} # Пустой словарь\n",
    "my_dict = {'name': 'Alex', 'course': 3} # Двухэлементный словарь\n",
    "my_dict = {'info': {'name': 'Alex', 'course': 3}} # Вложение\n",
    "# Альтернативные способы создания: ключевые слова, пары \n",
    "# «ключ:значение», упакованные пары «ключ:значение», списки ключей\n",
    "my_dict = dict(name='Alex', course=3)\n",
    "my_dict = dict([('name', 'Alex'), ('course', 3)])\n",
    "my_dict = dict(zip(keyslist, valueslist))\n",
    "my_dict = dict.fromkeys(['name', 'course'])\n"
   ]
  },
  {
   "cell_type": "code",
   "execution_count": null,
   "metadata": {},
   "outputs": [],
   "source": [
    "my_dict = {}\n",
    "my_dict['name'] = 'Alex'\n",
    "my_dict['course'] = 3\n",
    "print(my_dict)"
   ]
  },
  {
   "cell_type": "code",
   "execution_count": null,
   "metadata": {},
   "outputs": [],
   "source": [
    "print(my_dict['name'])"
   ]
  },
  {
   "cell_type": "code",
   "execution_count": null,
   "metadata": {},
   "outputs": [],
   "source": [
    "print(my_dict['info'])"
   ]
  },
  {
   "cell_type": "code",
   "execution_count": null,
   "metadata": {},
   "outputs": [],
   "source": [
    "print('info' in my_dict)\n",
    "print('name' in my_dict)"
   ]
  },
  {
   "cell_type": "code",
   "execution_count": null,
   "metadata": {},
   "outputs": [],
   "source": [
    "print(my_dict.get('name', 'Maxim'))\n",
    "print(my_dict.get('info', 'no'))"
   ]
  },
  {
   "cell_type": "code",
   "execution_count": null,
   "metadata": {},
   "outputs": [],
   "source": [
    "my_dict.setdefault('info', 'default')\n",
    "print(my_dict['info'])"
   ]
  },
  {
   "cell_type": "code",
   "execution_count": null,
   "metadata": {},
   "outputs": [],
   "source": [
    "my_dict.setdefault('name', 'default')\n",
    "print(my_dict['name'])"
   ]
  },
  {
   "cell_type": "code",
   "execution_count": null,
   "metadata": {},
   "outputs": [],
   "source": [
    "my_dict = {'name': 'Alex', 'course': 3, 'info': {'age': 21, 'country': 'rus'}}\n",
    "print(list(my_dict.keys())) # все ключи\n",
    "print(list(my_dict.values())) # все значения\n",
    "print(list(my_dict.items())) # Кортежи пар «ключ:значение»"
   ]
  },
  {
   "cell_type": "code",
   "execution_count": null,
   "metadata": {},
   "outputs": [],
   "source": [
    "my_dict ={'name': 'Alex', 'course': 3}\n",
    "my_new_dict = my_dict.copy() # my_new_dict = dict(my_dict)\n",
    "my_new_dict['info'] = 'None'\n",
    "print(my_dict)\n",
    "print(my_new_dict)"
   ]
  },
  {
   "cell_type": "code",
   "execution_count": null,
   "metadata": {},
   "outputs": [],
   "source": [
    "my_dict = {'name': 'Alex', 'course': 3, 'info': {'age': 21, 'country': 'rus'}}\n",
    "my_new_dict = my_dict.copy() #my_new_dict = dict(my_dict)\n",
    "my_new_dict['info']['age'] = 1\n",
    "print(my_dict)"
   ]
  },
  {
   "cell_type": "code",
   "execution_count": null,
   "metadata": {},
   "outputs": [],
   "source": [
    "import copy\n",
    "my_dict = {'name': 'Alex', 'course': 3, 'info': {'age': 21, 'country': 'rus'}}\n",
    "my_new_dict = copy.deepcopy(my_dict)\n",
    "my_new_dict['info']['age'] = 1\n",
    "print(my_dict)\n",
    "print(my_new_dict)"
   ]
  },
  {
   "cell_type": "code",
   "execution_count": null,
   "metadata": {},
   "outputs": [],
   "source": [
    "my_dict ={'name': 'Alex', 'course': 3, 'test1': 10, 'test2': 'prob', 'test3': 3.56}\n",
    "print(my_dict.pop('test3', 10)) # если ключа 'test3' нет, словарь останется без изменения и выведется 10\n",
    "print(my_dict)"
   ]
  },
  {
   "cell_type": "code",
   "execution_count": null,
   "metadata": {},
   "outputs": [],
   "source": [
    "print(my_dict.pop('test3', 10))\n",
    "print(my_dict.popitem()) # удаление/возвращение любой пары (ключ,значение)"
   ]
  },
  {
   "cell_type": "code",
   "execution_count": null,
   "metadata": {},
   "outputs": [],
   "source": [
    "del my_dict['name'] #Удаление элементов по ключу\n",
    "print(my_dict)"
   ]
  },
  {
   "cell_type": "code",
   "execution_count": null,
   "metadata": {},
   "outputs": [],
   "source": [
    "my_dict ={'name': 'Alex', 'course': 3}\n",
    "my_new_dict = { 'test1': 10, 'test2': 'prob', 'test3': 3.56}\n",
    "my_dict.update(my_new_dict)\n",
    "print(my_dict)"
   ]
  },
  {
   "cell_type": "code",
   "execution_count": null,
   "metadata": {},
   "outputs": [],
   "source": [
    "my_dict ={'name': 'Alex', 'course': 3}\n",
    "my_new_dict = { 'test1': 10, 'name': 'prob', 'test3': 3.56}\n",
    "my_dict.update(my_new_dict)\n",
    "print(my_dict)"
   ]
  }
 ],
 "metadata": {
  "language_info": {
   "codemirror_mode": {
    "name": "ipython",
    "version": 3
   },
   "file_extension": ".py",
   "mimetype": "text/x-python",
   "name": "python",
   "nbconvert_exporter": "python",
   "pygments_lexer": "ipython3",
   "version": "3.7.7-final"
  },
  "orig_nbformat": 2,
  "kernelspec": {
   "name": "python37464bitbaseconda965802ec3bac4354bcdf100448e694ef",
   "display_name": "Python 3.7.4 64-bit ('base': conda)"
  }
 },
 "nbformat": 4,
 "nbformat_minor": 2
}