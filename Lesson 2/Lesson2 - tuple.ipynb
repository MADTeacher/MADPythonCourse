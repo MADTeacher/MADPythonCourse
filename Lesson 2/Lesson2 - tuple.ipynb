{
 "cells": [
  {
   "cell_type": "code",
   "execution_count": null,
   "metadata": {},
   "outputs": [],
   "source": [
    "my_tuple = ('Alex', 'Jon')\n",
    "my_tuple = tuple(['Alex', 'Jon'])\n",
    "my_tuple = 'Alex', 'Jon'\n",
    "my_tuple = ()\n"
   ]
  },
  {
   "cell_type": "code",
   "execution_count": null,
   "metadata": {},
   "outputs": [],
   "source": [
    "my_tuple = (2+3)*2\n",
    "print(type(my_tuple))\n",
    "my_tuple = (2, 3)\n",
    "print(type(my_tuple))"
   ]
  },
  {
   "cell_type": "code",
   "execution_count": null,
   "metadata": {},
   "outputs": [],
   "source": [
    "my_tuple = 2, 3, 4, 5\n",
    "print(my_tuple)\n",
    "my_list = list(my_tuple)\n",
    "print(my_list)\n",
    "my_list = list(map(lambda x: x*2, my_list))\n",
    "print(my_list)\n",
    "my_tuple = tuple(my_list)\n",
    "print(my_tuple)"
   ]
  },
  {
   "cell_type": "code",
   "execution_count": null,
   "metadata": {},
   "outputs": [],
   "source": [
    "my_tuple[0] = 3"
   ]
  },
  {
   "cell_type": "code",
   "execution_count": null,
   "metadata": {},
   "outputs": [],
   "source": [
    "from collections import namedtuple\n",
    "ItemRec = namedtuple('ItemRec', ['name', 'age', 'jobs'])\n",
    "\n",
    "my_tuple = ItemRec('Alex', age=21, jobs=['student', 'developer'])\n",
    "print(my_tuple)\n",
    "print(my_tuple[0], my_tuple[2])\n",
    "print(my_tuple.name, my_tuple.jobs)"
   ]
  },
  {
   "cell_type": "code",
   "execution_count": null,
   "metadata": {},
   "outputs": [],
   "source": [
    "my_dict = my_tuple._asdict()\n",
    "print(my_dict['name'], my_dict['jobs'])\n",
    "print(my_dict)"
   ]
  }
 ],
 "metadata": {
  "language_info": {
   "codemirror_mode": {
    "name": "ipython",
    "version": 3
   },
   "file_extension": ".py",
   "mimetype": "text/x-python",
   "name": "python",
   "nbconvert_exporter": "python",
   "pygments_lexer": "ipython3",
   "version": "3.7.7-final"
  },
  "orig_nbformat": 2,
  "kernelspec": {
   "name": "python37464bitbaseconda965802ec3bac4354bcdf100448e694ef",
   "display_name": "Python 3.7.4 64-bit ('base': conda)"
  }
 },
 "nbformat": 4,
 "nbformat_minor": 2
}