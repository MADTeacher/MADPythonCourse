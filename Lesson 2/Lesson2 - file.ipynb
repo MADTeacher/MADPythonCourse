{
 "cells": [
  {
   "cell_type": "code",
   "execution_count": null,
   "metadata": {},
   "outputs": [],
   "source": [
    "myfile = open('myfile.txt', 'w')\n",
    "myfile.write('Пятнадцать человек на сундук мертвеца.\\n')\n",
    "myfile.write('Йо-хо-хо, и бутылка рому!\\n')\n",
    "myfile.close()\n",
    "myfile = open('myfile.txt', 'r')\n",
    "pri"
   ]
  },
  {
   "cell_type": "code",
   "execution_count": null,
   "metadata": {},
   "outputs": [],
   "source": [
    "print(myfile.readline())"
   ]
  },
  {
   "cell_type": "code",
   "execution_count": null,
   "metadata": {},
   "outputs": [],
   "source": [
    "print(myfile.readline())"
   ]
  },
  {
   "cell_type": "code",
   "execution_count": null,
   "metadata": {},
   "outputs": [],
   "source": [
    "print(myfile.readline())\n",
    "# Пустая строка: конец файла"
   ]
  },
  {
   "cell_type": "code",
   "execution_count": null,
   "metadata": {},
   "outputs": [],
   "source": [
    "print(open('myfile.txt', 'r').read()) # Чтение сразу всего файла"
   ]
  },
  {
   "cell_type": "code",
   "execution_count": null,
   "metadata": {},
   "outputs": [],
   "source": [
    "myfile = open('myfile.txt', 'r')\n",
    "for line in myfile:\n",
    "    print(line, end='')"
   ]
  },
  {
   "cell_type": "code",
   "execution_count": null,
   "metadata": {},
   "outputs": [],
   "source": [
    "a, b, c = 43, 23, 45\n",
    "mytext = 'Test'\n",
    "mydict = { 'а' : 1, 'b' : 2}\n",
    "mylist = [1, 2, 3]\n",
    "myfile = open('datafile.txt' , 'w')\n",
    "myfile.write(mytext  + '\\n')\n",
    "myfile.write('%s,%s,%s\\n' % (a, b, c)) # Преобразование чисел в строки\n",
    "myfile.write(str(mylist ) + '$' + str(mydict) + '\\n') \n",
    "# Преобразование и разделение посредством $\n",
    "myfile.close() "
   ]
  },
  {
   "cell_type": "code",
   "execution_count": null,
   "metadata": {},
   "outputs": [],
   "source": [
    "print(open('datafile.txt', 'r').read())"
   ]
  },
  {
   "cell_type": "code",
   "execution_count": null,
   "metadata": {},
   "outputs": [],
   "source": [
    "myfile = open('datafile.txt', 'r')\n",
    "mytext = myfile.readline()\n",
    "mytext = mytext.rstrip() # Удаление символа конца строки\n",
    "print(mytext)\n",
    "my_numbers_str = myfile.readline()\n",
    "my_numbers_str = my_numbers_str.split(',') # Разбиение (разбор) по запятым\n",
    "my_numbers = [int(it) for it in my_numbers_str] # Преобразование всего списка за раз\n",
    "#int(P) - приведение элемента списка к числовому типу int\n",
    "print(my_numbers)"
   ]
  },
  {
   "cell_type": "code",
   "execution_count": null,
   "metadata": {},
   "outputs": [],
   "source": [
    "mydict_and_list = myfile.readline().split('$')\n",
    "print(mydict_and_list)\n",
    "print(eval(mydict_and_list[1]))\n",
    "objects = [eval(P) for P in mydict_and_list]\n",
    "print(objects)"
   ]
  },
  {
   "cell_type": "code",
   "execution_count": null,
   "metadata": {},
   "outputs": [],
   "source": [
    "import pickle\n",
    "mydict = { 'а' : 1, 'b' : 2}\n",
    "myfile = open('datafile.pkl', 'wb')\n",
    "pickle.dump(mydict, myfile)\n",
    "myfile.close()"
   ]
  },
  {
   "cell_type": "code",
   "execution_count": null,
   "metadata": {},
   "outputs": [],
   "source": [
    "import pickle\n",
    "myfile = open('datafile.pkl', 'rb')\n",
    "mydict = pickle.load(myfile)\n",
    "print(mydict)"
   ]
  },
  {
   "cell_type": "code",
   "execution_count": null,
   "metadata": {},
   "outputs": [],
   "source": [
    "import json\n",
    "name = dict(first='Ivan', last='Ivanov')\n",
    "my_dict = dict(name=name, job=['developer', 'student'], age=21.5)\n",
    "print(my_dict)\n",
    "json.dump(my_dict, fp=open('testjson.txt', 'w'), indent=4)"
   ]
  },
  {
   "cell_type": "code",
   "execution_count": null,
   "metadata": {},
   "outputs": [],
   "source": [
    "my_json_obj = json.load(open('testjson.txt'))\n",
    "print(my_json_obj) "
   ]
  }
 ],
 "metadata": {
  "language_info": {
   "codemirror_mode": {
    "name": "ipython",
    "version": 3
   },
   "file_extension": ".py",
   "mimetype": "text/x-python",
   "name": "python",
   "nbconvert_exporter": "python",
   "pygments_lexer": "ipython3",
   "version": "3.7.7-final"
  },
  "orig_nbformat": 2,
  "kernelspec": {
   "name": "python37464bitbaseconda965802ec3bac4354bcdf100448e694ef",
   "display_name": "Python 3.7.4 64-bit ('base': conda)"
  }
 },
 "nbformat": 4,
 "nbformat_minor": 2
}