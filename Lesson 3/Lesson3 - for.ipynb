{
 "cells": [
  {
   "cell_type": "code",
   "execution_count": null,
   "metadata": {
    "tags": []
   },
   "outputs": [],
   "source": [
    "for it in ['first', 'second', 4, 5.9, 'finish']:\n",
    "\tprint(it, end='  ')\n"
   ]
  },
  {
   "cell_type": "code",
   "execution_count": null,
   "metadata": {
    "tags": []
   },
   "outputs": [],
   "source": [
    "my_str = 'в далёкой-далёкой галактике...'\n",
    "for it in my_str:\n",
    "\tprint(it, end='-')"
   ]
  },
  {
   "cell_type": "code",
   "execution_count": null,
   "metadata": {
    "tags": []
   },
   "outputs": [],
   "source": [
    "my_str = ('в', 'далёкой-','далёкой', 'галактике...')\n",
    "for it in my_str:\n",
    "\tprint(it, end=' ')"
   ]
  },
  {
   "cell_type": "code",
   "execution_count": null,
   "metadata": {
    "tags": []
   },
   "outputs": [],
   "source": [
    "my_tuple_list = [(3,6), (0,1), (4,5), ('O',3.9)]\n",
    "for (a,b) in my_tuple_list:\n",
    "\tprint(a, b)"
   ]
  },
  {
   "cell_type": "code",
   "execution_count": null,
   "metadata": {
    "tags": []
   },
   "outputs": [],
   "source": [
    "my_dict = {'a':1, 'b': 10, 'c': 3.8}\n",
    "for key in my_dict:\n",
    "\tprint(key, '=>', my_dict[key])"
   ]
  },
  {
   "cell_type": "code",
   "execution_count": null,
   "metadata": {
    "tags": []
   },
   "outputs": [],
   "source": [
    "for key, value in my_dict.items():\n",
    "\tprint(key, '=>', value)"
   ]
  },
  {
   "cell_type": "code",
   "execution_count": null,
   "metadata": {
    "tags": []
   },
   "outputs": [],
   "source": [
    "items = (\"ааа\", 111, (4, 5), 2.01)\n",
    "tests = [(4, 5) , 3.14]\n",
    "for key in tests:\n",
    "    for item in items:\n",
    "        if item == key:\n",
    "            print (key, 'найден')\n",
    "            break\n",
    "else:\n",
    "    print(key, \"не найден!\")"
   ]
  },
  {
   "cell_type": "code",
   "execution_count": null,
   "metadata": {
    "tags": []
   },
   "outputs": [],
   "source": [
    "for i in range (3):\n",
    "    print(i, 'Test')"
   ]
  },
  {
   "cell_type": "code",
   "execution_count": null,
   "metadata": {
    "tags": []
   },
   "outputs": [],
   "source": [
    "my_str = 'Test'\n",
    "for it in my_str: \n",
    "    print(it, end=' ') # Простая итерация\n",
    "print(len(my_str)) # 4\n",
    "print(list(range(len(my_str)))) # [0, 1, 2, 3]\n",
    "#Ручная итерация посредством range/len\n",
    "for it in range(len(my_str)): \n",
    "    print(my_str[it], end=' ')\n"
   ]
  },
  {
   "cell_type": "code",
   "execution_count": null,
   "metadata": {
    "tags": []
   },
   "outputs": [],
   "source": [
    "first_list = [1,2,3,4,5]\n",
    "second_list = [6,7,8,9,10]\n",
    "print(list(zip(first_list, second_list)))\n",
    "for a, b in zip(first_list, second_list):\n",
    "    print(a, '+', b, '=' , a+b)"
   ]
  },
  {
   "cell_type": "code",
   "execution_count": null,
   "metadata": {
    "tags": []
   },
   "outputs": [],
   "source": [
    "one, two, three = (1,2,3) , (4,5,6), (7,8,9)\n",
    "print(list(zip(one, two, three)))\n",
    "for a, b, c in zip(one, two, three):\n",
    "    print('({} - {}) * {} = {}'.format(b, a, c, (b-a)*c))"
   ]
  },
  {
   "cell_type": "code",
   "execution_count": null,
   "metadata": {
    "tags": []
   },
   "outputs": [],
   "source": [
    "one, two, three = (1,2,3,5,9), (4,5,6), (7,8,9,23)\n",
    "print(list(zip(one, two, three)))"
   ]
  },
  {
   "cell_type": "code",
   "execution_count": null,
   "metadata": {
    "tags": []
   },
   "outputs": [],
   "source": [
    "my_str = 'Test'\n",
    "index = 0\n",
    "for it in my_str:\n",
    "    print('Индекс элемента ',it,' = ' , index)\n",
    "    index +=1"
   ]
  },
  {
   "cell_type": "code",
   "execution_count": null,
   "metadata": {},
   "outputs": [],
   "source": [
    "my_str = 'Test'\n",
    "for index, it in enumerate(my_str):\n",
    "    print('Индекс элемента ',it,' = ' , index)"
   ]
  }
 ],
 "metadata": {
  "language_info": {
   "name": "python",
   "codemirror_mode": {
    "name": "ipython",
    "version": 3
   },
   "version": "3.8.3-final"
  },
  "orig_nbformat": 2,
  "file_extension": ".py",
  "mimetype": "text/x-python",
  "name": "python",
  "npconvert_exporter": "python",
  "pygments_lexer": "ipython3",
  "version": 3,
  "kernelspec": {
   "name": "python37464bitbaseconda965802ec3bac4354bcdf100448e694ef",
   "display_name": "Python 3.7.4 64-bit ('base': conda)"
  }
 },
 "nbformat": 4,
 "nbformat_minor": 2
}