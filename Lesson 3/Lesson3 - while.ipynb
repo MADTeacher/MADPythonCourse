{
 "cells": [
  {
   "cell_type": "code",
   "execution_count": null,
   "metadata": {
    "tags": []
   },
   "outputs": [],
   "source": [
    "x = 0\n",
    "y = 5\n",
    "while x < y: \n",
    "    print(x, end=' ')\n",
    "    x += 1  # Или x = x + 1 \n"
   ]
  },
  {
   "cell_type": "code",
   "execution_count": null,
   "metadata": {
    "tags": []
   },
   "outputs": [],
   "source": [
    "x= 0\n",
    "y= 5\n",
    "while x < y: \n",
    "    print(x, end=' ')\n",
    "    x += 1  # Или x = x + 1 \n",
    "else:\n",
    "    print('Happy End!')"
   ]
  },
  {
   "cell_type": "code",
   "execution_count": null,
   "metadata": {
    "tags": []
   },
   "outputs": [],
   "source": [
    "x= 0\n",
    "y= 5\n",
    "while x < y: \n",
    "    print(x, end=' ')\n",
    "    x += 1   \n",
    "    if x > y-2: break\n",
    "else:\n",
    "    print('Happy End!')"
   ]
  },
  {
   "cell_type": "code",
   "execution_count": null,
   "metadata": {
    "tags": []
   },
   "outputs": [],
   "source": [
    "a = 15\n",
    "while a:\n",
    "    a = a-1 # a -= 1\n",
    "    if a % 2 != 0: continue \n",
    "    print(a, end=' ')\n"
   ]
  },
  {
   "cell_type": "code",
   "execution_count": null,
   "metadata": {
    "tags": []
   },
   "outputs": [],
   "source": [
    "my_sum = 0\n",
    "while True:\n",
    "    val = int(input('Введите значение: '))\n",
    "    if val == 0: break\n",
    "    my_sum += val\n",
    "    print('Текущая сумма: ', my_sum)\n",
    "print('Конечная сумма: ', my_sum)"
   ]
  },
  {
   "cell_type": "code",
   "execution_count": null,
   "metadata": {},
   "outputs": [],
   "source": []
  }
 ],
 "metadata": {
  "language_info": {
   "name": "python",
   "codemirror_mode": {
    "name": "ipython",
    "version": 3
   },
   "version": "3.8.3-final"
  },
  "orig_nbformat": 2,
  "file_extension": ".py",
  "mimetype": "text/x-python",
  "name": "python",
  "npconvert_exporter": "python",
  "pygments_lexer": "ipython3",
  "version": 3,
  "kernelspec": {
   "name": "python37464bitbaseconda965802ec3bac4354bcdf100448e694ef",
   "display_name": "Python 3.7.4 64-bit ('base': conda)"
  }
 },
 "nbformat": 4,
 "nbformat_minor": 2
}