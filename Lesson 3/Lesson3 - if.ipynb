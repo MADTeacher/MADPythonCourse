{
 "cells": [
  {
   "cell_type": "code",
   "execution_count": null,
   "metadata": {
    "tags": []
   },
   "outputs": [],
   "source": [
    "a = 3\n",
    "if a > 25:\n",
    "    pass\n",
    "else:\n",
    "    a = 25\n",
    "print(a)"
   ]
  },
  {
   "cell_type": "code",
   "execution_count": null,
   "metadata": {
    "tags": []
   },
   "outputs": [],
   "source": [
    "B = 33\n",
    "A = True\n",
    "C = 10\n",
    "Z = B if A else C\n",
    "print(Z)"
   ]
  },
  {
   "cell_type": "code",
   "execution_count": null,
   "metadata": {
    "tags": []
   },
   "outputs": [],
   "source": [
    "def first_function():\n",
    "    print('first_function') #Обработка a\n",
    "\n",
    "def second_function():\n",
    "    print('second_function') #Обработка b\n",
    "\n",
    "def default():\n",
    "    print('default') #Обработка default\n",
    "\n",
    "func_dict = {'a': first_function,\n",
    "             'b': second_function,\n",
    "             'c': lambda: print('lambda')\n",
    "             }\n",
    "#выполнить функцию из словаря\n",
    "func_dict.get('g', default)()"
   ]
  },
  {
   "cell_type": "code",
   "execution_count": null,
   "metadata": {},
   "outputs": [],
   "source": []
  }
 ],
 "metadata": {
  "language_info": {
   "name": "python",
   "codemirror_mode": {
    "name": "ipython",
    "version": 3
   },
   "version": "3.8.3-final"
  },
  "orig_nbformat": 2,
  "file_extension": ".py",
  "mimetype": "text/x-python",
  "name": "python",
  "npconvert_exporter": "python",
  "pygments_lexer": "ipython3",
  "version": 3,
  "kernelspec": {
   "name": "python37464bitbaseconda965802ec3bac4354bcdf100448e694ef",
   "display_name": "Python 3.7.4 64-bit ('base': conda)"
  }
 },
 "nbformat": 4,
 "nbformat_minor": 2
}