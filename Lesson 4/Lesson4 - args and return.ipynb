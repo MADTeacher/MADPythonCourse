{
 "cells": [
  {
   "cell_type": "code",
   "execution_count": null,
   "metadata": {
    "tags": []
   },
   "outputs": [],
   "source": [
    "def test(a, b, c):\n",
    "    print('a = {}; b = {}; c = {}'.format(a, b, c))\n",
    "\n",
    "x, y, z = (1, [2, 10], 'Hi!')\n",
    "test(x, y, z)\n",
    "print('x = {}; y = {}; z = {}'.format(x, y, z))"
   ]
  },
  {
   "cell_type": "code",
   "execution_count": null,
   "metadata": {},
   "outputs": [],
   "source": [
    "def test(a, b, c):\n",
    "    a = 5\n",
    "    b[0] = 'Oo'\n",
    "    c = '(-_-)'\n",
    "    print('a = {}; b = {}; c = {}'.format(a, b, c))\n",
    "    print('a = {}; b = {}; c = {}'.format(id(a), id(b), id(c)))\n",
    "\n",
    "x, y, z = (1, [2, 10], 'Hi!')\n",
    "test(x, y, z)\n",
    "print('x = {}; y = {}; z = {}'.format(x, y, z))\n",
    "print('x = {}; y = {}; z = {}'.format(id(x), id(y), id(z)))"
   ]
  },
  {
   "cell_type": "code",
   "execution_count": null,
   "metadata": {},
   "outputs": [],
   "source": [
    "def test_default(a=10):\n",
    "    print(a)\n",
    "test_default('Hi!')\n",
    "test_default()"
   ]
  },
  {
   "cell_type": "code",
   "execution_count": null,
   "metadata": {},
   "outputs": [],
   "source": [
    "def test_default2(a=10, b=12):\n",
    "    print(a+b)\n",
    "\n",
    "test_default2()\n",
    "test_default2(4)\n",
    "test_default2(4,2)"
   ]
  },
  {
   "cell_type": "code",
   "execution_count": null,
   "metadata": {},
   "outputs": [],
   "source": [
    "def test_default2(b=12, a):\n",
    "    print(a+b)\n",
    "\n",
    "test_default2(4,2)"
   ]
  },
  {
   "cell_type": "code",
   "execution_count": null,
   "metadata": {},
   "outputs": [],
   "source": [
    "def custom_function(a, b, c=2):\n",
    "    print(a + b + c)\n",
    "custom_function(b=2,c=1,a=4)"
   ]
  },
  {
   "cell_type": "code",
   "execution_count": null,
   "metadata": {},
   "outputs": [],
   "source": [
    "def test(a, b = []):\n",
    "    b.append(a)\n",
    "    return b\n",
    "\n",
    "t = test(10)\n",
    "t1 = test(30)\n",
    "print(t, t1)"
   ]
  },
  {
   "cell_type": "code",
   "execution_count": null,
   "metadata": {},
   "outputs": [],
   "source": [
    "def custom_function2(a, b, c):\n",
    "    print(a + b + c)\n",
    "\n",
    "custom_function2(2,1,4)\n",
    "custom_function2(b=2,c=1,a=4)"
   ]
  },
  {
   "cell_type": "code",
   "execution_count": null,
   "metadata": {},
   "outputs": [],
   "source": [
    "def custom_function3(a, b, c, *args):\n",
    "    print(a + b + c + sum(args))\n",
    "\n",
    "custom_function3(1, 1, 1, 10, 20, 30)"
   ]
  },
  {
   "cell_type": "code",
   "execution_count": null,
   "metadata": {},
   "outputs": [],
   "source": [
    "def custom_function3(a, b, c, *args, d):\n",
    "    print(a + b + c + sum(*args)-d)\n",
    "\n",
    "custom_function3(1, 1, 1, [10, 20, 30], d=4)"
   ]
  },
  {
   "cell_type": "code",
   "execution_count": null,
   "metadata": {},
   "outputs": [],
   "source": [
    "def custom_function4(*args, **kwargs):\n",
    "    if args:\n",
    "        print(args)\n",
    "    if kwargs:\n",
    "        print(kwargs)\n",
    "custom_function4(10, 20, key='Hi', Oo = 100)"
   ]
  },
  {
   "cell_type": "code",
   "execution_count": null,
   "metadata": {},
   "outputs": [],
   "source": [
    "def custom_function4(*a, **b):\n",
    "    if a:\n",
    "        print(a)\n",
    "    if b:\n",
    "        print(b)\n",
    "custom_function4(10, 20, key='Hi', Oo = 100)"
   ]
  },
  {
   "cell_type": "code",
   "execution_count": null,
   "metadata": {},
   "outputs": [],
   "source": [
    "def custom_function5(**kwargs):\n",
    "    print(kwargs)\n",
    "custom_function5(key='Hi', Oo = 100)"
   ]
  },
  {
   "cell_type": "code",
   "execution_count": null,
   "metadata": {},
   "outputs": [],
   "source": [
    "def test_return(a, b):\n",
    "    c = a + b\n",
    "print(test_return(4, 5))"
   ]
  },
  {
   "cell_type": "code",
   "execution_count": null,
   "metadata": {},
   "outputs": [],
   "source": [
    "def test_return(a, b):\n",
    "    return a + b\n",
    "print(test_return(4, 5))"
   ]
  },
  {
   "cell_type": "code",
   "execution_count": null,
   "metadata": {},
   "outputs": [],
   "source": [
    "def test_return(a, b):\n",
    "    c = a + b\n",
    "    m = a * b\n",
    "    e = a ** b\n",
    "    d = a / b\n",
    "    s = a - b\n",
    "    return c, m, e, d, s\n",
    "\n",
    "x, y, q, w, z = test_return(4, 2)\n",
    "print(x, y, q, w, z)\n",
    "_, *my_list, _ = test_return(4, 2)\n",
    "print(my_list)\n",
    "y, *my_list, q = test_return(4, 2)\n",
    "print(y, my_list, q)\n",
    "w, _, _, *my_list = test_return(4, 2)\n",
    "print(w, my_list)"
   ]
  },
  {
   "cell_type": "code",
   "execution_count": null,
   "metadata": {},
   "outputs": [],
   "source": [
    "w, _ = test_return(4, 2)\n",
    "print(w, my_list)"
   ]
  },
  {
   "cell_type": "code",
   "execution_count": null,
   "metadata": {},
   "outputs": [],
   "source": [
    "*first, *second = test_return(4, 2)"
   ]
  },
  {
   "cell_type": "code",
   "execution_count": null,
   "metadata": {},
   "outputs": [],
   "source": []
  }
 ],
 "metadata": {
  "language_info": {
   "name": "python",
   "codemirror_mode": {
    "name": "ipython",
    "version": 3
   },
   "version": "3.8.3-final"
  },
  "orig_nbformat": 2,
  "file_extension": ".py",
  "mimetype": "text/x-python",
  "name": "python",
  "npconvert_exporter": "python",
  "pygments_lexer": "ipython3",
  "version": 3,
  "kernelspec": {
   "name": "python37464bitbaseconda965802ec3bac4354bcdf100448e694ef",
   "display_name": "Python 3.7.4 64-bit ('base': conda)"
  }
 },
 "nbformat": 4,
 "nbformat_minor": 2
}