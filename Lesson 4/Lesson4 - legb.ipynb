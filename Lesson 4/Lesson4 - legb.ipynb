{
 "cells": [
  {
   "cell_type": "code",
   "execution_count": null,
   "metadata": {},
   "outputs": [],
   "source": [
    "x = 5\n",
    "def test(y):\n",
    "    print(x+y)\n",
    "test(4)"
   ]
  },
  {
   "cell_type": "code",
   "execution_count": null,
   "metadata": {},
   "outputs": [],
   "source": [
    "x = 5\n",
    "def test(y):\n",
    "    x = 10\n",
    "    print(x+y)\n",
    "test(4)\n",
    "print(x)"
   ]
  },
  {
   "cell_type": "code",
   "execution_count": null,
   "metadata": {},
   "outputs": [],
   "source": [
    "x = 5\n",
    "def test(y):\n",
    "    x = 4\n",
    "    def in_test(z):\n",
    "        x = 3\n",
    "        print(z+x+y)\n",
    "    in_test(x+y)\n",
    "    print(x)\n",
    "test(4)\n",
    "print(x)"
   ]
  },
  {
   "cell_type": "code",
   "execution_count": null,
   "metadata": {},
   "outputs": [],
   "source": []
  },
  {
   "cell_type": "code",
   "execution_count": null,
   "metadata": {},
   "outputs": [],
   "source": []
  },
  {
   "cell_type": "code",
   "execution_count": null,
   "metadata": {},
   "outputs": [],
   "source": []
  },
  {
   "cell_type": "code",
   "execution_count": null,
   "metadata": {},
   "outputs": [],
   "source": []
  },
  {
   "cell_type": "code",
   "execution_count": null,
   "metadata": {
    "tags": []
   },
   "outputs": [],
   "source": [
    "def test(a, b, c):\n",
    "    print('a = {}; b = {}; c = {}'.format(a, b, c))\n",
    "\n",
    "x, y, z = (1, [2, 10], 'Hi!')\n",
    "test(x, y, z)\n",
    "print('x = {}; y = {}; z = {}'.format(x, y, z))"
   ]
  },
  {
   "cell_type": "code",
   "execution_count": null,
   "metadata": {},
   "outputs": [],
   "source": [
    "def test(a, b, c):\n",
    "    print('a = {}; b = {}; c = {}'.format(id(a), id(b), id(c)))\n",
    "\n",
    "x, y, z = (1, [2, 10], 'Hi!')\n",
    "test(x, y, z)\n",
    "print('x = {}; y = {}; z = {}'.format(id(x), id(y), id(z)))"
   ]
  },
  {
   "cell_type": "code",
   "execution_count": null,
   "metadata": {},
   "outputs": [],
   "source": [
    "def test(a, b, c):\n",
    "    a = 5\n",
    "    b[0] = 'Oo'\n",
    "    c = '(-_-)'\n",
    "    print('a = {}; b = {}; c = {}'.format(a, b, c))\n",
    "    print('a = {}; b = {}; c = {}'.format(id(a), id(b), id(c)))\n",
    "\n",
    "x, y, z = (1, [2, 10], 'Hi!')\n",
    "test(x, y, z)\n",
    "print('x = {}; y = {}; z = {}'.format(x, y, z))\n",
    "print('x = {}; y = {}; z = {}'.format(id(x), id(y), id(z)))"
   ]
  },
  {
   "cell_type": "code",
   "execution_count": null,
   "metadata": {},
   "outputs": [],
   "source": [
    "x, y, z = 1, [2, 10], 'Hi!'\n",
    "a, b, c = x, y, z\n",
    "print('a = {}; b = {}; c = {}'.format(id(a), id(b), id(c)))\n",
    "print('x = {}; y = {}; z = {}'.format(id(x), id(y), id(z)))\n",
    "a = 5\n",
    "b[0] = 'Oo'\n",
    "c = '(-_-)'\n",
    "print('a = {}; b = {}; c = {}'.format(a, b, c))\n",
    "print('x = {}; y = {}; z = {}'.format(x, y, z))\n",
    "print('a = {}; b = {}; c = {}'.format(id(a), id(b), id(c)))\n",
    "print('x = {}; y = {}; z = {}'.format(id(x), id(y), id(z)))"
   ]
  },
  {
   "cell_type": "code",
   "execution_count": null,
   "metadata": {},
   "outputs": [],
   "source": [
    "one = 4\n",
    "two = one\n",
    "three = 4\n",
    "print('one = {}; two = {}; three = {}'.format(id(one), id(two), id(three)))\n",
    "print(id(one) == id(two) == id(three))"
   ]
  },
  {
   "cell_type": "code",
   "execution_count": null,
   "metadata": {},
   "outputs": [],
   "source": [
    "def test_return(a, b):\n",
    "    c = a + b\n",
    "    m = a * b\n",
    "    e = a ** b\n",
    "    d = a / b\n",
    "    s = a - b\n",
    "    return c, m, e, d, s\n",
    "\n",
    "x, y, q, w, z = test_return(4, 2)\n",
    "print(x, y, q, w, z)\n",
    "_, *my_list, _ = test_return(4, 2)\n",
    "print(my_list)\n",
    "y, *my_list, q = test_return(4, 2)\n",
    "print(y, my_list, q)\n",
    "w, _, _, *my_list = test_return(4, 2)\n",
    "print(w, my_list)"
   ]
  },
  {
   "cell_type": "code",
   "execution_count": null,
   "metadata": {},
   "outputs": [],
   "source": [
    "w, _ = test_return(4, 2)\n",
    "print(w, my_list)"
   ]
  },
  {
   "cell_type": "code",
   "execution_count": null,
   "metadata": {},
   "outputs": [],
   "source": [
    "*first, *second = test_return(4, 2)"
   ]
  },
  {
   "cell_type": "code",
   "execution_count": null,
   "metadata": {},
   "outputs": [],
   "source": [
    "def test_default(a=10):\n",
    "    print(a)\n",
    "test_default('Hi!')\n",
    "test_default()"
   ]
  },
  {
   "cell_type": "code",
   "execution_count": null,
   "metadata": {},
   "outputs": [],
   "source": [
    "def test_default2(a=10, b=12):\n",
    "    print(a+b)\n",
    "\n",
    "test_default2()\n",
    "test_default2(4)\n",
    "test_default2(4,2)"
   ]
  },
  {
   "cell_type": "code",
   "execution_count": null,
   "metadata": {},
   "outputs": [],
   "source": [
    "def test_default2(b=12, a):\n",
    "    print(a+b)\n",
    "\n",
    "test_default2(4,2)"
   ]
  },
  {
   "cell_type": "code",
   "execution_count": null,
   "metadata": {},
   "outputs": [],
   "source": [
    "def custom_function(a, b, c=2):\n",
    "    print(a + b + c)\n",
    "custom_function(b=2,c=1,a=4)"
   ]
  },
  {
   "cell_type": "code",
   "execution_count": null,
   "metadata": {},
   "outputs": [],
   "source": [
    "def custom_function2(a, b, c):\n",
    "    print(a + b + c)\n",
    "custom_function2(b=2,c=1,a=4)"
   ]
  },
  {
   "cell_type": "code",
   "execution_count": null,
   "metadata": {},
   "outputs": [],
   "source": [
    "def custom_function3(a, b, c, *args, d):\n",
    "    print(a + b + c + sum(*args)-d)\n",
    "\n",
    "custom_function3(1, 1, 1, [10, 20, 30], d=4)"
   ]
  },
  {
   "cell_type": "code",
   "execution_count": null,
   "metadata": {},
   "outputs": [],
   "source": [
    "def custom_function3(a, b, c, *args):\n",
    "    print(a + b + c + sum(args))\n",
    "\n",
    "custom_function3(1, 1, 1, 10, 20, 30)"
   ]
  },
  {
   "cell_type": "code",
   "execution_count": null,
   "metadata": {},
   "outputs": [],
   "source": [
    "def custom_function4(*args, **kwargs):\n",
    "    if args:\n",
    "        print(args)\n",
    "    if kwargs:\n",
    "        print(kwargs)\n",
    "custom_function4(10, 20, key='Hi', Oo = 100)"
   ]
  },
  {
   "cell_type": "code",
   "execution_count": null,
   "metadata": {},
   "outputs": [],
   "source": [
    "def custom_function4(*a, **b):\n",
    "    if a:\n",
    "        print(a)\n",
    "    if b:\n",
    "        print(b)\n",
    "custom_function4(10, 20, key='Hi', Oo = 100)"
   ]
  },
  {
   "cell_type": "code",
   "execution_count": null,
   "metadata": {},
   "outputs": [],
   "source": [
    "def custom_function5(**kwargs):\n",
    "    print(kwargs)\n",
    "custom_function5(key='Hi', Oo = 100)"
   ]
  },
  {
   "cell_type": "code",
   "execution_count": null,
   "metadata": {},
   "outputs": [],
   "source": [
    "def my_sum (L) :\n",
    "    print (L)\n",
    "    if not L:\n",
    "        return 0\n",
    "    else:\n",
    "        return L[0] + my_sum(L[1:])\n",
    "my_sum([1, 2, 3, 4, 5, 20, 30])"
   ]
  },
  {
   "cell_type": "code",
   "execution_count": null,
   "metadata": {},
   "outputs": [],
   "source": [
    "def my_sum1(L):\n",
    "    return 0 if not L else L[0] + my_sum1(L[1:])\n",
    "print(my_sum1([1, 2, 3, 4, 5, 20, 30]))"
   ]
  },
  {
   "cell_type": "code",
   "execution_count": null,
   "metadata": {},
   "outputs": [],
   "source": [
    "def my_sum2(L):\n",
    "    return L[0] if len(L) == 1 else L[0] + my_sum2(L[1:])\n",
    "print(my_sum2([1, 2, 3, 4, 5, 20, 30]))"
   ]
  },
  {
   "cell_type": "code",
   "execution_count": null,
   "metadata": {},
   "outputs": [],
   "source": [
    "def my_sum3(L):\n",
    "    first, *rest = L\n",
    "    return first if not rest else first + my_sum3(rest)\n",
    "print(my_sum3([1, 2, 3, 4, 5, 20, 30]))"
   ]
  },
  {
   "cell_type": "code",
   "execution_count": null,
   "metadata": {},
   "outputs": [],
   "source": [
    "def my_sum4(L) :\n",
    "    if not L: return 0\n",
    "    return nonempty(L)\n",
    "\n",
    "def nonempty(L) :\n",
    "    return L[0] + my_sum4(L[1:])\n",
    "\n",
    "print(my_sum4([1, 2, 3, 4, 5, 20, 30]))\n",
    ""
   ]
  },
  {
   "cell_type": "code",
   "execution_count": null,
   "metadata": {},
   "outputs": [],
   "source": [
    "def sum_ab(a: int, b: float) -> float:\n",
    "    return a+b\n",
    "print(sum_ab.__annotations__)\n",
    "for arg in sum_ab.__annotations__:\n",
    "    print(arg, '=>', sum_ab.__annotations__[arg])"
   ]
  },
  {
   "cell_type": "code",
   "execution_count": null,
   "metadata": {},
   "outputs": [],
   "source": [
    "def sum_ab_without_atr(a, b):\n",
    "    return a+b\n",
    "print(sum_ab_without_atr.__annotations__)"
   ]
  },
  {
   "cell_type": "code",
   "execution_count": null,
   "metadata": {},
   "outputs": [],
   "source": [
    "def sum_ab(a:'what?'=2, b:(4, 5)=99, c:float=3.5) -> 'holy python!!!':\n",
    "    return a+b+c\n",
    "print(sum_ab.__annotations__)\n",
    "for arg in sum_ab.__annotations__:\n",
    "    print(arg, '=>', sum_ab.__annotations__[arg])\n",
    "\n",
    "print(sum_ab())\n",
    "print(sum_ab(1,3))\n",
    "print(sum_ab(c=-5))"
   ]
  },
  {
   "cell_type": "code",
   "execution_count": null,
   "metadata": {},
   "outputs": [],
   "source": [
    "my_add = lambda x, y: x+y\n",
    "print(my_add(1, 2))"
   ]
  },
  {
   "cell_type": "code",
   "execution_count": null,
   "metadata": {},
   "outputs": [],
   "source": [
    "def my_add(x, y):\n",
    "    return x+y\n",
    "print(my_add(1, 2))"
   ]
  },
  {
   "cell_type": "code",
   "execution_count": null,
   "metadata": {},
   "outputs": [],
   "source": [
    "print((lambda x, y: x+y)(1, 2))"
   ]
  },
  {
   "cell_type": "code",
   "execution_count": null,
   "metadata": {},
   "outputs": [],
   "source": [
    "list_tuples = [('d', 4), ('b', 2), ('a', 1), ('c', 3), ('a', 0)]\n",
    "print(sorted(list_tuples))\n",
    "print(sorted(list_tuples, key=lambda x: x[1]))\n",
    "print(sorted(list_tuples, key=lambda x: x[0]))"
   ]
  },
  {
   "cell_type": "code",
   "execution_count": null,
   "metadata": {},
   "outputs": [],
   "source": [
    "sorted(range(-5, 6), key=lambda x: x * x)"
   ]
  },
  {
   "cell_type": "code",
   "execution_count": null,
   "metadata": {},
   "outputs": [],
   "source": [
    "sorted(range(-5, 6), key=lambda x: x ** x)"
   ]
  },
  {
   "cell_type": "code",
   "execution_count": null,
   "metadata": {},
   "outputs": [],
   "source": [
    "def free_decorator(function):\n",
    "\treturn function\n",
    "\n",
    "#my_func = free_decorator(my_func)\n",
    "@free_decorator\n",
    "def my_func():\n",
    "    return \"It's work!!!\"\n",
    "my_func()\n",
    "\n"
   ]
  },
  {
   "cell_type": "code",
   "execution_count": null,
   "metadata": {},
   "outputs": [],
   "source": [
    "def up_register(func):\n",
    "    def wrapper():\n",
    "        original_result = func()\n",
    "        modified_result = original_result.upper()\n",
    "        return modified_result\n",
    "    return wrapper\n",
    "\n",
    "@up_register\n",
    "def my_func():\n",
    "    return \"It's work!!!\"\n",
    "my_func()"
   ]
  },
  {
   "cell_type": "code",
   "execution_count": null,
   "metadata": {},
   "outputs": [],
   "source": [
    "def h1_html(function):\n",
    "    def wrapper():\n",
    "        return '<h1>' + function() + '</h1>'\n",
    "    return wrapper\n",
    "\n",
    "def body(function):\n",
    "    def wrapper():\n",
    "        return '<body>' + function() + '</body>'\n",
    "    return wrapper\n",
    "\n",
    "#@body\n",
    "#@h1_html\n",
    "def my_func():\n",
    "    return \"It's work!!!\"\n",
    "my_decfunc = body(h1_html(my_func))\n",
    "print(my_decfunc())"
   ]
  },
  {
   "cell_type": "code",
   "execution_count": null,
   "metadata": {},
   "outputs": [],
   "source": [
    "def body(function):\n",
    "    def wrapper(name):\n",
    "        return '<body>' + function(name) + '</body>'\n",
    "    return wrapper\n",
    "\n",
    "@body\n",
    "def my_func(name):\n",
    "    return name+\", It's work!!!\"\n",
    "print(my_func('Alex'))"
   ]
  },
  {
   "cell_type": "code",
   "execution_count": null,
   "metadata": {},
   "outputs": [],
   "source": [
    "def proxy(func):\n",
    "    def wrapper(*args, **kwargs):\n",
    "        print(f'ТРАССИРОВКА: вызвана {func.__name__}() '\n",
    "              f'с {args}, {kwargs}')\n",
    "        original_result = func(*args, **kwargs)\n",
    "        print(f'ТРАССИРОВКА: {func.__name__}() '\n",
    "              f'вернула {original_result!r}')\n",
    "        return original_result\n",
    "    return wrapper\n",
    "\n",
    "@proxy\n",
    "def my_func(name = \"Alex\", line=\"It's work!!!\"):\n",
    "    return f'{name}, {line}'\n",
    "print(my_func())\n",
    "print(my_func('Jon'))\n",
    "print(my_func(line=\"^_^\", name = 'Jon'))\n",
    "print(my_func(\"Fine\", \"you win!!!\"))"
   ]
  },
  {
   "cell_type": "code",
   "execution_count": null,
   "metadata": {},
   "outputs": [],
   "source": [
    "def gen_test():\n",
    "    N = 0\n",
    "    while N < 5:\n",
    "        yield N\n",
    "        N += 1\n",
    "\n",
    "for x in gen_test():\n",
    "    print(x, end=' ')"
   ]
  },
  {
   "cell_type": "code",
   "execution_count": null,
   "metadata": {},
   "outputs": [],
   "source": [
    "def gen_surprise_test():\n",
    "    yield 0\n",
    "    yield 1\n",
    "    yield 2\n",
    "    yield 3\n",
    "    yield 4\n",
    "\n",
    "for x in gen_surprise_test():\n",
    "    print(x, end=' ')\n",
    "\n",
    "iterator = gen_surprise_test()\n",
    "print(iterator)\n",
    "print(next(iterator))\n",
    "print(iterator.__next__())\n",
    "print(next(iterator))\n",
    "print(next(iterator))\n",
    "print(next(iterator))\n",
    "print(next(iterator))"
   ]
  },
  {
   "cell_type": "code",
   "execution_count": null,
   "metadata": {},
   "outputs": [],
   "source": [
    "def gen_send_test(N):\n",
    "    for x in range(N):\n",
    "        Y = yield x\n",
    "        print(Y)\n",
    "\n",
    "iterator = gen_send_test(2)\n",
    "print(next(iterator))\n",
    "print(iterator.send('-_-'))\n",
    "print(iterator.send('o_o'))"
   ]
  },
  {
   "cell_type": "code",
   "execution_count": null,
   "metadata": {},
   "outputs": [],
   "source": [
    "def exept_gen_test(N):\n",
    "    try:\n",
    "        for x in range(N):\n",
    "            yield x\n",
    "    except GeneratorExit:\n",
    "        print('Exception!!!')\n",
    "    print('happy end')\n",
    "\n",
    "for it in exept_gen_test(9):\n",
    "    if it >= 10:\n",
    "        break\n",
    "    print(it, end=' ')"
   ]
  },
  {
   "cell_type": "code",
   "execution_count": null,
   "metadata": {},
   "outputs": [],
   "source": [
    "print([х+2 for х in range(5)])\n",
    "print((х+2 for х in range(5)))"
   ]
  },
  {
   "cell_type": "code",
   "execution_count": null,
   "metadata": {},
   "outputs": [],
   "source": [
    "def gen_func(N):\n",
    "    for it in range(N):\n",
    "        yield '-_-'\n",
    "\n",
    "func_iter = gen_func(4)\n",
    "for it in func_iter:\n",
    "    print(it)\n",
    "\n",
    "new_func_iter = ('-_-' for _ in range(4))\n",
    "for it in new_func_iter:\n",
    "    print(it)    "
   ]
  },
  {
   "cell_type": "code",
   "execution_count": null,
   "metadata": {},
   "outputs": [],
   "source": [
    "for it in new_func_iter:\n",
    "    print(it) "
   ]
  },
  {
   "cell_type": "code",
   "execution_count": null,
   "metadata": {},
   "outputs": [],
   "source": [
    "for it in ('-_-' for x in range(4) if x % 2 == 0):\n",
    "    print(it) "
   ]
  },
  {
   "cell_type": "code",
   "execution_count": null,
   "metadata": {},
   "outputs": [],
   "source": []
  }
 ],
 "metadata": {
  "language_info": {
   "name": "python",
   "codemirror_mode": {
    "name": "ipython",
    "version": 3
   },
   "version": "3.8.3-final"
  },
  "orig_nbformat": 2,
  "file_extension": ".py",
  "mimetype": "text/x-python",
  "name": "python",
  "npconvert_exporter": "python",
  "pygments_lexer": "ipython3",
  "version": 3,
  "kernelspec": {
   "name": "python37464bitbaseconda965802ec3bac4354bcdf100448e694ef",
   "display_name": "Python 3.7.4 64-bit ('base': conda)"
  }
 },
 "nbformat": 4,
 "nbformat_minor": 2
}