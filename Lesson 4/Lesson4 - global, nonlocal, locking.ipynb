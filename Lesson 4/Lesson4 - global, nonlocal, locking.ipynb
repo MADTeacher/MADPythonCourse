{
 "cells": [
  {
   "cell_type": "code",
   "execution_count": null,
   "metadata": {},
   "outputs": [],
   "source": [
    "x = 5\n",
    "def test(y):\n",
    "    print(x+y)\n",
    "\n",
    "test(4)"
   ]
  },
  {
   "cell_type": "code",
   "execution_count": null,
   "metadata": {},
   "outputs": [],
   "source": [
    "x = 5\n",
    "def test(y):\n",
    "    global x\n",
    "    x = 10\n",
    "    print(x+y)\n",
    "\n",
    "test(4)\n",
    "print(x)"
   ]
  },
  {
   "cell_type": "code",
   "execution_count": null,
   "metadata": {},
   "outputs": [],
   "source": [
    "x = 5\n",
    "def test(y):\n",
    "    x = 4\n",
    "    def in_test(z):\n",
    "        global x\n",
    "        x = 3\n",
    "        print(z+x+y)\n",
    "    in_test(x+y)\n",
    "    print(x)\n",
    "\n",
    "test(4)\n",
    "print(x)"
   ]
  },
  {
   "cell_type": "code",
   "execution_count": null,
   "metadata": {},
   "outputs": [],
   "source": [
    "def maker(N):\n",
    "    def action(X):  # Создание и возвращение функции action\n",
    "        return X ** N  \n",
    "    return action\n",
    "\n",
    "my_func = maker(3)\n",
    "print(my_func(2))\n",
    "print(my_func(4)) \n",
    "print(my_func(5)) "
   ]
  },
  {
   "cell_type": "code",
   "execution_count": null,
   "metadata": {},
   "outputs": [],
   "source": [
    "def maker(N):\n",
    "    return lambda X: X ** N\n",
    "\n",
    "my_func = maker(3)\n",
    "print(my_func(2))\n",
    "print(my_func(4)) \n",
    "print(my_func(5)) "
   ]
  },
  {
   "cell_type": "code",
   "execution_count": null,
   "metadata": {},
   "outputs": [],
   "source": [
    "def counter(start):\n",
    "    state = start\n",
    "    def adder(X):\n",
    "        print(X + state)\n",
    "    return adder\n",
    "\n",
    "F = counter(5)\n",
    "F(3)\n",
    "F(5)"
   ]
  },
  {
   "cell_type": "code",
   "execution_count": null,
   "metadata": {},
   "outputs": [],
   "source": [
    "def counter(start):\n",
    "    state = start\n",
    "    def adder(X):\n",
    "        print(X + state)\n",
    "        state += 1\n",
    "    return adder\n",
    "\n",
    "F = counter(0)\n",
    "F(3)"
   ]
  },
  {
   "cell_type": "code",
   "execution_count": null,
   "metadata": {},
   "outputs": [],
   "source": [
    "def counter(start):\n",
    "    state = start\n",
    "    def adder(X):\n",
    "        nonlocal state\n",
    "        print(X + state)\n",
    "        state += 1\n",
    "    return adder\n",
    "\n",
    "F = counter(5)\n",
    "F(3)\n",
    "F(5)"
   ]
  },
  {
   "cell_type": "code",
   "execution_count": null,
   "metadata": {},
   "outputs": [],
   "source": [
    "def counter(start):\n",
    "    def adder(X):\n",
    "        nonlocal state\n",
    "        state = start\n",
    "        print(X + state)\n",
    "        state += 1\n",
    "    return adder\n",
    "\n",
    "F = counter(5)\n"
   ]
  },
  {
   "cell_type": "code",
   "execution_count": null,
   "metadata": {},
   "outputs": [],
   "source": [
    "state = 10\n",
    "def counter(start):\n",
    "    def adder(X):\n",
    "        nonlocal state\n",
    "        state = start\n",
    "        print(X + state)\n",
    "        state += 1\n",
    "    return adder\n",
    "\n",
    "F = counter(5)\n",
    "F(1)\n",
    "F(2)\n",
    "print(state)"
   ]
  },
  {
   "cell_type": "code",
   "execution_count": null,
   "metadata": {},
   "outputs": [],
   "source": [
    "state = 10\n",
    "def counter(start):\n",
    "    def adder(X):\n",
    "        global state\n",
    "        state = start\n",
    "        print(X + state)\n",
    "        state += 1\n",
    "    return adder\n",
    "\n",
    "F = counter(5)\n",
    "F(1)\n",
    "F(2)\n",
    "print(state)"
   ]
  }
 ],
 "metadata": {
  "language_info": {
   "name": "python",
   "codemirror_mode": {
    "name": "ipython",
    "version": 3
   },
   "version": "3.8.3-final"
  },
  "orig_nbformat": 2,
  "file_extension": ".py",
  "mimetype": "text/x-python",
  "name": "python",
  "npconvert_exporter": "python",
  "pygments_lexer": "ipython3",
  "version": 3,
  "kernelspec": {
   "name": "python37464bitbaseconda965802ec3bac4354bcdf100448e694ef",
   "display_name": "Python 3.7.4 64-bit ('base': conda)"
  }
 },
 "nbformat": 4,
 "nbformat_minor": 2
}