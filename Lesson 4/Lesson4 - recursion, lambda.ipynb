{
 "cells": [
  {
   "cell_type": "code",
   "execution_count": null,
   "metadata": {},
   "outputs": [],
   "source": [
    "def my_sum (L) :\n",
    "    print (L)\n",
    "    if not L:\n",
    "        return 0\n",
    "    else:\n",
    "        return L[0] + my_sum(L[1:])\n",
    "my_sum([1, 2, 3, 4, 5, 20, 30])"
   ]
  },
  {
   "cell_type": "code",
   "execution_count": null,
   "metadata": {},
   "outputs": [],
   "source": [
    "def my_sum1(L):\n",
    "    return 0 if not L else L[0] + my_sum1(L[1:])\n",
    "print(my_sum1([1, 2, 3, 4, 5, 20, 30]))"
   ]
  },
  {
   "cell_type": "code",
   "execution_count": null,
   "metadata": {},
   "outputs": [],
   "source": [
    "def my_sum2(L):\n",
    "    return L[0] if len(L) == 1 else L[0] + my_sum2(L[1:])\n",
    "print(my_sum2([1, 2, 3, 4, 5, 20, 30]))"
   ]
  },
  {
   "cell_type": "code",
   "execution_count": null,
   "metadata": {},
   "outputs": [],
   "source": [
    "def my_sum3(L):\n",
    "    first, *rest = L\n",
    "    return first if not rest else first + my_sum3(rest)\n",
    "print(my_sum3([1, 2, 3, 4, 5, 20, 30]))"
   ]
  },
  {
   "cell_type": "code",
   "execution_count": null,
   "metadata": {},
   "outputs": [],
   "source": [
    "def my_sum4(L) :\n",
    "    if not L: return 0\n",
    "    return nonempty(L)\n",
    "\n",
    "def nonempty(L) :\n",
    "    return L[0] + my_sum4(L[1:])\n",
    "\n",
    "print(my_sum4([1, 2, 3, 4, 5, 20, 30]))\n",
    ""
   ]
  },
  {
   "cell_type": "code",
   "execution_count": null,
   "metadata": {},
   "outputs": [],
   "source": [
    "my_add = lambda x, y: x+y\n",
    "print(my_add(1, 2))"
   ]
  },
  {
   "cell_type": "code",
   "execution_count": null,
   "metadata": {},
   "outputs": [],
   "source": [
    "def my_add(x, y):\n",
    "    return x+y\n",
    "print(my_add(1, 2))"
   ]
  },
  {
   "cell_type": "code",
   "execution_count": null,
   "metadata": {},
   "outputs": [],
   "source": [
    "print((lambda x, y: x+y)(1, 2))"
   ]
  },
  {
   "cell_type": "code",
   "execution_count": null,
   "metadata": {},
   "outputs": [],
   "source": [
    "list_tuples = [('d', 4), ('b', 2), ('a', 1), ('c', 3), ('a', 0)]\n",
    "print(sorted(list_tuples))\n",
    "print(sorted(list_tuples, key=lambda x: x[1]))\n",
    "print(sorted(list_tuples, key=lambda x: x[0]))"
   ]
  },
  {
   "cell_type": "code",
   "execution_count": null,
   "metadata": {},
   "outputs": [],
   "source": [
    "sorted(range(-5, 6), key=lambda x: x * x)"
   ]
  },
  {
   "cell_type": "code",
   "execution_count": null,
   "metadata": {},
   "outputs": [],
   "source": [
    "sorted(range(-5, 6), key=lambda x: x ** x)"
   ]
  },
  {
   "cell_type": "code",
   "execution_count": null,
   "metadata": {},
   "outputs": [],
   "source": []
  }
 ],
 "metadata": {
  "language_info": {
   "name": "python",
   "codemirror_mode": {
    "name": "ipython",
    "version": 3
   },
   "version": "3.8.3-final"
  },
  "orig_nbformat": 2,
  "file_extension": ".py",
  "mimetype": "text/x-python",
  "name": "python",
  "npconvert_exporter": "python",
  "pygments_lexer": "ipython3",
  "version": 3,
  "kernelspec": {
   "name": "python37464bitbaseconda965802ec3bac4354bcdf100448e694ef",
   "display_name": "Python 3.7.4 64-bit ('base': conda)"
  }
 },
 "nbformat": 4,
 "nbformat_minor": 2
}