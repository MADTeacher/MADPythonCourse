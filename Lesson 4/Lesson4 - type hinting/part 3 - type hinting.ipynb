{
 "cells": [
  {
   "cell_type": "code",
   "execution_count": null,
   "metadata": {},
   "outputs": [],
   "source": [
    "def sum_ab(a: int, b: float) -> float:\n",
    "    return a+b\n",
    "\n",
    "print(sum_ab.__annotations__)\n",
    "for arg in sum_ab.__annotations__:\n",
    "    print(arg, '=>', sum_ab.__annotations__[arg])"
   ]
  },
  {
   "cell_type": "code",
   "execution_count": null,
   "metadata": {},
   "outputs": [],
   "source": [
    "print(sum_ab('a', 'b'))"
   ]
  },
  {
   "cell_type": "code",
   "execution_count": null,
   "metadata": {},
   "outputs": [],
   "source": [
    "def sum_ab_without_atr(a, b):\n",
    "    return a+b\n",
    "\n",
    "print(sum_ab_without_atr.__annotations__)"
   ]
  },
  {
   "cell_type": "code",
   "execution_count": null,
   "metadata": {},
   "outputs": [],
   "source": [
    "def sum_ab(a:'what?'=2, b:(4, 5)=99, c:float=3.5) -> 'holy python!!!':\n",
    "    return a+b+c\n",
    "print(sum_ab.__annotations__)\n",
    "for arg in sum_ab.__annotations__:\n",
    "    print(arg, '=>', sum_ab.__annotations__[arg])\n",
    "\n",
    "print(sum_ab())\n",
    "print(sum_ab(1,3))\n",
    "print(sum_ab(c=-5))"
   ]
  },
  {
   "cell_type": "code",
   "execution_count": null,
   "metadata": {},
   "outputs": [],
   "source": [
    "print(sum_ab(3,4,5))\n",
    "print(sum_ab())"
   ]
  },
  {
   "cell_type": "code",
   "execution_count": null,
   "metadata": {},
   "outputs": [],
   "source": []
  }
 ],
 "metadata": {
  "language_info": {
   "name": "python",
   "codemirror_mode": {
    "name": "ipython",
    "version": 3
   },
   "version": "3.8.3-final"
  },
  "orig_nbformat": 2,
  "file_extension": ".py",
  "mimetype": "text/x-python",
  "name": "python",
  "npconvert_exporter": "python",
  "pygments_lexer": "ipython3",
  "version": 3,
  "kernelspec": {
   "name": "python37464bitbaseconda965802ec3bac4354bcdf100448e694ef",
   "display_name": "Python 3.7.4 64-bit ('base': conda)"
  }
 },
 "nbformat": 4,
 "nbformat_minor": 2
}